{
 "cells": [
  {
   "cell_type": "markdown",
   "metadata": {},
   "source": [
    "# Variables\n",
    "\n",
    "En programación, una variable es un *objeto* capaz de almacenar un valor en memoria, el cual puede ser llamado cuando sea necesario.\n",
    "\n",
    "En Python tenemos ciertas reglas para nombrar las variables:\n",
    "\n",
    "1. Las variables se pueden nombrar usando letras minusculas, mayusculas, numeros y el simbolo undescore ( _ ).\n",
    "2. El nombre de una variable nunca puede empezar con numeros.\n",
    "3. Python reconoce mayusculas de minusculas es decir, la variable A_1 es diferente a la variable a_1\n",
    "4. Python tiene ciertas palabras reservadas que no puden ser usadas como nombres de variables, estas palabras las llamaremos keywords\n",
    "\n",
    "### Keywords:\n",
    "\n",
    "Estas son palabras reservadas para determinadas funcionalidades del lenguaje:\n",
    "\n",
    "'False', 'None', 'True', 'and', 'as', 'assert', 'async', 'await', 'break', 'class', 'continue', 'def', 'del', 'elif', 'else', 'except', 'finally', 'for', 'from', 'global', 'if', 'import', 'in', 'is', 'lambda', 'nonlocal', 'not', 'or', 'pass', 'raise', 'return', 'try', 'while', 'with', 'yield'"
   ]
  },
  {
   "cell_type": "code",
   "execution_count": 1,
   "metadata": {},
   "outputs": [],
   "source": [
    "# Nombres válidos para variables:\n",
    "\n",
    "x = 3\n",
    "y2 = 4\n",
    "h_1 = 25 \n",
    "_palabra = 'hola'"
   ]
  },
  {
   "cell_type": "code",
   "execution_count": 2,
   "metadata": {},
   "outputs": [
    {
     "ename": "SyntaxError",
     "evalue": "invalid syntax (<ipython-input-2-b0ec89cd8930>, line 3)",
     "output_type": "error",
     "traceback": [
      "\u001b[1;36m  File \u001b[1;32m\"<ipython-input-2-b0ec89cd8930>\"\u001b[1;36m, line \u001b[1;32m3\u001b[0m\n\u001b[1;33m    3x = 7\u001b[0m\n\u001b[1;37m     ^\u001b[0m\n\u001b[1;31mSyntaxError\u001b[0m\u001b[1;31m:\u001b[0m invalid syntax\n"
     ]
    }
   ],
   "source": [
    "# Nombres NO válidos para variables:\n",
    "\n",
    "3x = 7\n",
    "j$ = 6"
   ]
  },
  {
   "cell_type": "markdown",
   "metadata": {},
   "source": [
    "Como se puede observar, Python nos dice que tenemos un error de sintaxis. Es muy importante irnos falmiliarizando con los errores que nos arroja Python, ya que esta es una ayuda muy importante para debuggiar nuestro código."
   ]
  },
  {
   "cell_type": "code",
   "execution_count": 3,
   "metadata": {},
   "outputs": [
    {
     "data": {
      "text/plain": [
       "3"
      ]
     },
     "execution_count": 3,
     "metadata": {},
     "output_type": "execute_result"
    }
   ],
   "source": [
    "x"
   ]
  },
  {
   "cell_type": "markdown",
   "metadata": {},
   "source": [
    "Como se puede observar, arriba le asignamos el valor 3 a la variable x, ahora, cada que necesitemos usar este valor, sabemos que lo podemos llamar mediante la variable en la cual esta guardado.\n",
    "\n",
    "Es muy importante tener en cuenta, que cuando estamos programado, alguien más va a leer el código, o incluso nosotros mismos dentro de unos meses o años, por esto las variables deben hablar por si mismas. Es mas facil para el lector saber que esta pasando cuando encuentra una variable que se llama area, que una variable que solo se llama a. Veamos:"
   ]
  },
  {
   "cell_type": "code",
   "execution_count": 4,
   "metadata": {},
   "outputs": [],
   "source": [
    "PI = 3.1416\n",
    "radio = 2"
   ]
  },
  {
   "cell_type": "code",
   "execution_count": 6,
   "metadata": {},
   "outputs": [
    {
     "data": {
      "text/plain": [
       "12.5664"
      ]
     },
     "execution_count": 6,
     "metadata": {},
     "output_type": "execute_result"
    }
   ],
   "source": [
    "area = PI * radio ** 2\n",
    "area"
   ]
  },
  {
   "cell_type": "markdown",
   "metadata": {},
   "source": [
    "De este código, podemos deducir que estamos hallando el área de un circulo, sin tener que explicarlo. Simplemente porque tenemos los nombres de las variables adecuados."
   ]
  },
  {
   "cell_type": "code",
   "execution_count": 7,
   "metadata": {},
   "outputs": [
    {
     "data": {
      "text/plain": [
       "2"
      ]
     },
     "execution_count": 7,
     "metadata": {},
     "output_type": "execute_result"
    }
   ],
   "source": [
    "radio"
   ]
  },
  {
   "cell_type": "markdown",
   "metadata": {},
   "source": [
    "La variable radio tiene guardado el valor 2, pero de ser necesario, podemos cambiar este valor así:"
   ]
  },
  {
   "cell_type": "code",
   "execution_count": 8,
   "metadata": {},
   "outputs": [
    {
     "data": {
      "text/plain": [
       "5"
      ]
     },
     "execution_count": 8,
     "metadata": {},
     "output_type": "execute_result"
    }
   ],
   "source": [
    "radio = 5\n",
    "radio"
   ]
  },
  {
   "cell_type": "markdown",
   "metadata": {},
   "source": [
    "ahora el valor 2 se perdio y la variable radio guarda el valor 5.\n",
    "\n",
    "### Bonus\n",
    "En ocasiones necesitaremos que dos variables intercambien sus valores, en la mayoria de lenguajes de programación, esto se hace usando una variable temporal que guarde un valor en el intermedio, pero con Python podemos hacerlo de una forma mas rápida. Veamos:"
   ]
  },
  {
   "cell_type": "code",
   "execution_count": 9,
   "metadata": {},
   "outputs": [],
   "source": [
    "x = 1\n",
    "y = 2"
   ]
  },
  {
   "cell_type": "code",
   "execution_count": 10,
   "metadata": {},
   "outputs": [],
   "source": [
    "x, y = y, x"
   ]
  },
  {
   "cell_type": "code",
   "execution_count": 11,
   "metadata": {},
   "outputs": [
    {
     "data": {
      "text/plain": [
       "2"
      ]
     },
     "execution_count": 11,
     "metadata": {},
     "output_type": "execute_result"
    }
   ],
   "source": [
    "x"
   ]
  },
  {
   "cell_type": "code",
   "execution_count": 12,
   "metadata": {},
   "outputs": [
    {
     "data": {
      "text/plain": [
       "1"
      ]
     },
     "execution_count": 12,
     "metadata": {},
     "output_type": "execute_result"
    }
   ],
   "source": [
    "y"
   ]
  },
  {
   "cell_type": "markdown",
   "metadata": {},
   "source": [
    "Ahora x almacena el valor 2 e y almacena el valor 1"
   ]
  }
 ],
 "metadata": {
  "kernelspec": {
   "display_name": "Python 3",
   "language": "python",
   "name": "python3"
  },
  "language_info": {
   "codemirror_mode": {
    "name": "ipython",
    "version": 3
   },
   "file_extension": ".py",
   "mimetype": "text/x-python",
   "name": "python",
   "nbconvert_exporter": "python",
   "pygments_lexer": "ipython3",
   "version": "3.7.7"
  }
 },
 "nbformat": 4,
 "nbformat_minor": 4
}
