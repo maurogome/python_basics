{
 "cells": [
  {
   "cell_type": "markdown",
   "metadata": {},
   "source": [
    "# Valores y Tipos\n",
    "\n",
    "Los valores son los diferentes datos que podemos manipular en un programa como números, letras, vectores, etc. Para saber cual es el tipo de dato que estamos manipulando, podemos usar la función Type(   ) en el IDLE de Python:"
   ]
  },
  {
   "cell_type": "code",
   "execution_count": 1,
   "metadata": {},
   "outputs": [
    {
     "data": {
      "text/plain": [
       "str"
      ]
     },
     "execution_count": 1,
     "metadata": {},
     "output_type": "execute_result"
    }
   ],
   "source": [
    "type('Hola Mundo!')"
   ]
  },
  {
   "cell_type": "markdown",
   "metadata": {},
   "source": [
    "En Python vamos a encontrar diferentes tipos de datos, algunos de los cuales vamos a empezar a manipular ya mismo y otros que veremos mas adelante. Veamos:"
   ]
  },
  {
   "cell_type": "code",
   "execution_count": 4,
   "metadata": {},
   "outputs": [
    {
     "data": {
      "text/plain": [
       "int"
      ]
     },
     "execution_count": 4,
     "metadata": {},
     "output_type": "execute_result"
    }
   ],
   "source": [
    "# Tipo Entero\n",
    "\n",
    "type(2)"
   ]
  },
  {
   "cell_type": "code",
   "execution_count": 5,
   "metadata": {},
   "outputs": [
    {
     "data": {
      "text/plain": [
       "float"
      ]
     },
     "execution_count": 5,
     "metadata": {},
     "output_type": "execute_result"
    }
   ],
   "source": [
    "# Tipo Flotante\n",
    "\n",
    "type(2.0)"
   ]
  },
  {
   "cell_type": "code",
   "execution_count": 6,
   "metadata": {},
   "outputs": [
    {
     "data": {
      "text/plain": [
       "str"
      ]
     },
     "execution_count": 6,
     "metadata": {},
     "output_type": "execute_result"
    }
   ],
   "source": [
    "# Tipo String\n",
    "\n",
    "type('Monty Python')"
   ]
  },
  {
   "cell_type": "markdown",
   "metadata": {},
   "source": [
    "En los ejemplos anteriores podemos ver los tipos de datos más básicos que vamos a encotrar en un programa: Los números enteros (*int*), los números decimales o punto flotante (*float*) y las cadenas de texto (*str*). \n",
    "\n",
    "Otros tipos muy importantes de datos que son clave para definir la lógica de nuestro código, son los datos tipo booleano (verdadero y falso) y los datos vacios o *NoneType*:"
   ]
  },
  {
   "cell_type": "code",
   "execution_count": 7,
   "metadata": {},
   "outputs": [
    {
     "data": {
      "text/plain": [
       "bool"
      ]
     },
     "execution_count": 7,
     "metadata": {},
     "output_type": "execute_result"
    }
   ],
   "source": [
    "# Tipo booleano\n",
    "\n",
    "type(True)"
   ]
  },
  {
   "cell_type": "code",
   "execution_count": 8,
   "metadata": {},
   "outputs": [
    {
     "data": {
      "text/plain": [
       "bool"
      ]
     },
     "execution_count": 8,
     "metadata": {},
     "output_type": "execute_result"
    }
   ],
   "source": [
    "# Tipo booleano\n",
    "\n",
    "type(False)"
   ]
  },
  {
   "cell_type": "code",
   "execution_count": 9,
   "metadata": {},
   "outputs": [
    {
     "data": {
      "text/plain": [
       "NoneType"
      ]
     },
     "execution_count": 9,
     "metadata": {},
     "output_type": "execute_result"
    }
   ],
   "source": [
    "# Tipo None\n",
    "\n",
    "type(None)"
   ]
  },
  {
   "cell_type": "markdown",
   "metadata": {},
   "source": [
    "Finalmente, tenemos los tipos de datos iterables, que son aquellos que pueden almacenar varios datos a los cuales accedemos por medio de un indice que es un numero entero positivo (incluido el cero) en los cuales profundizaremos mas adelante. Esto datos son las listas, las tuplas y los diccionarios. Cabe anotar que los strings también son tipos de datos iterables."
   ]
  },
  {
   "cell_type": "code",
   "execution_count": 13,
   "metadata": {},
   "outputs": [
    {
     "data": {
      "text/plain": [
       "tuple"
      ]
     },
     "execution_count": 13,
     "metadata": {},
     "output_type": "execute_result"
    }
   ],
   "source": [
    "# Tipo Tupla\n",
    "\n",
    "type( (1, 2.5, ':D'))"
   ]
  },
  {
   "cell_type": "code",
   "execution_count": 14,
   "metadata": {},
   "outputs": [
    {
     "data": {
      "text/plain": [
       "list"
      ]
     },
     "execution_count": 14,
     "metadata": {},
     "output_type": "execute_result"
    }
   ],
   "source": [
    "# Tipo Lista\n",
    "\n",
    "type( [3, 5, 'F'] )"
   ]
  },
  {
   "cell_type": "code",
   "execution_count": 15,
   "metadata": {},
   "outputs": [
    {
     "data": {
      "text/plain": [
       "dict"
      ]
     },
     "execution_count": 15,
     "metadata": {},
     "output_type": "execute_result"
    }
   ],
   "source": [
    "# Tipo diccionario\n",
    "\n",
    "type( {\n",
    "\t\t\t\t'Name' : 'Mauro',\n",
    "\t\t\t\t'Age' : 32,\n",
    "\t\t\t\t'Active Subscription' : True\n",
    "\t\t\t} )"
   ]
  },
  {
   "cell_type": "markdown",
   "metadata": {},
   "source": [
    "## Indices\n",
    "Las listas en Python representan arreglos de valores, a los cuales podemos acceder por medio de indices. Teniendo en cuenta que el primer indice es 0. es decir si, queremos acceder al segundo item usamos el indice 1 y si queremos acceder al ultimo usamos el indice n-1, asi:"
   ]
  },
  {
   "cell_type": "code",
   "execution_count": 16,
   "metadata": {},
   "outputs": [
    {
     "data": {
      "text/plain": [
       "'Marte'"
      ]
     },
     "execution_count": 16,
     "metadata": {},
     "output_type": "execute_result"
    }
   ],
   "source": [
    "['Mercurio','Venus','Tierra','Marte','Jupiter','Saturno','Urano','Neptuno'][3]"
   ]
  },
  {
   "cell_type": "markdown",
   "metadata": {},
   "source": [
    "De la misma forma podemos acceder a los diferentes valores de las tuplas. Pero, ¿Qué son las Tuplas?, bueno estas son muy parecidas a las listas, con la diferencia que son inmutables (y si haz observado bien, pudiste notar que apra definir las tuplas usamos parentesis y para definir las listas usamos corchetes). es decir, una vez esta definida la tupla, sus valores no pueden ser cambiados, veamos:"
   ]
  },
  {
   "cell_type": "code",
   "execution_count": 19,
   "metadata": {},
   "outputs": [
    {
     "ename": "TypeError",
     "evalue": "'tuple' object does not support item assignment",
     "output_type": "error",
     "traceback": [
      "\u001b[1;31m---------------------------------------------------------------------------\u001b[0m",
      "\u001b[1;31mTypeError\u001b[0m                                 Traceback (most recent call last)",
      "\u001b[1;32m<ipython-input-19-3b6e4e9999d1>\u001b[0m in \u001b[0;36m<module>\u001b[1;34m\u001b[0m\n\u001b[1;32m----> 1\u001b[1;33m \u001b[1;33m(\u001b[0m\u001b[1;34m'Europa'\u001b[0m\u001b[1;33m,\u001b[0m \u001b[1;34m'Io'\u001b[0m\u001b[1;33m,\u001b[0m \u001b[1;34m'Gamynedes'\u001b[0m\u001b[1;33m,\u001b[0m \u001b[1;34m'Calisto'\u001b[0m\u001b[1;33m)\u001b[0m\u001b[1;33m[\u001b[0m\u001b[1;36m3\u001b[0m\u001b[1;33m]\u001b[0m \u001b[1;33m=\u001b[0m \u001b[1;34m'Amaltea'\u001b[0m\u001b[1;33m\u001b[0m\u001b[1;33m\u001b[0m\u001b[0m\n\u001b[0m",
      "\u001b[1;31mTypeError\u001b[0m: 'tuple' object does not support item assignment"
     ]
    }
   ],
   "source": [
    "('Europa', 'Io', 'Gamynedes', 'Calisto')[3] = 'Amaltea'"
   ]
  },
  {
   "cell_type": "markdown",
   "metadata": {},
   "source": [
    "Como podemos ver, si tratamos de modificar la tupla, Python nos arroja un error impidiendonos asignar el nuevo valor, pero ahora veamos que pasa con las listas"
   ]
  },
  {
   "cell_type": "code",
   "execution_count": 21,
   "metadata": {},
   "outputs": [],
   "source": [
    "['Mercurio','Venus','Tierra','Marte','Jupiter','Saturno','Urano','Neptuno'][3] = 'Elon Land'"
   ]
  },
  {
   "cell_type": "markdown",
   "metadata": {},
   "source": [
    "Ahora Python no nos esta arrojando ningún error, pero para poder visualizar mejor lo que esta pasando, almacenemos nuestra lista de planetas en una variable y repitamos el proceso:"
   ]
  },
  {
   "cell_type": "code",
   "execution_count": 22,
   "metadata": {},
   "outputs": [
    {
     "data": {
      "text/plain": [
       "['Mercurio',\n",
       " 'Venus',\n",
       " 'Tierra',\n",
       " 'Marte',\n",
       " 'Jupiter',\n",
       " 'Saturno',\n",
       " 'Urano',\n",
       " 'Neptuno']"
      ]
     },
     "execution_count": 22,
     "metadata": {},
     "output_type": "execute_result"
    }
   ],
   "source": [
    "planetas = ['Mercurio','Venus','Tierra','Marte','Jupiter','Saturno','Urano','Neptuno']\n",
    "planetas"
   ]
  },
  {
   "cell_type": "code",
   "execution_count": 23,
   "metadata": {},
   "outputs": [
    {
     "data": {
      "text/plain": [
       "['Mercurio',\n",
       " 'Venus',\n",
       " 'Tierra',\n",
       " 'Elon Land',\n",
       " 'Jupiter',\n",
       " 'Saturno',\n",
       " 'Urano',\n",
       " 'Neptuno']"
      ]
     },
     "execution_count": 23,
     "metadata": {},
     "output_type": "execute_result"
    }
   ],
   "source": [
    "planetas[3] = 'Elon Land'\n",
    "planetas"
   ]
  },
  {
   "cell_type": "markdown",
   "metadata": {},
   "source": [
    "También existen los indices negativos, los cuales nos ayudan a acceder a los valores de atras hacia adelante, es decir, con el indice -1 accedemos al último item, con el -2 al penultimo, y así, sucesivamente. Veamos:"
   ]
  },
  {
   "cell_type": "code",
   "execution_count": 24,
   "metadata": {},
   "outputs": [
    {
     "data": {
      "text/plain": [
       "'Neptuno'"
      ]
     },
     "execution_count": 24,
     "metadata": {},
     "output_type": "execute_result"
    }
   ],
   "source": [
    "planetas[-1]"
   ]
  },
  {
   "cell_type": "code",
   "execution_count": 25,
   "metadata": {},
   "outputs": [
    {
     "data": {
      "text/plain": [
       "'Urano'"
      ]
     },
     "execution_count": 25,
     "metadata": {},
     "output_type": "execute_result"
    }
   ],
   "source": [
    "planetas[-2]"
   ]
  },
  {
   "cell_type": "markdown",
   "metadata": {},
   "source": [
    "## Slices\n",
    "A veces queremos acceder a una porción de una lista, esto lo podemos hacer con la siguiente notación lista[ idx_i:idx_f ]"
   ]
  },
  {
   "cell_type": "code",
   "execution_count": 26,
   "metadata": {},
   "outputs": [
    {
     "data": {
      "text/plain": [
       "['Tierra', 'Elon Land', 'Jupiter']"
      ]
     },
     "execution_count": 26,
     "metadata": {},
     "output_type": "execute_result"
    }
   ],
   "source": [
    "planetas[2:5]"
   ]
  },
  {
   "cell_type": "markdown",
   "metadata": {},
   "source": [
    "podemos omitir el indice inicial para tomar la lista desde el principio hasta donde le indiquemos, o viceversa. Si omitimos ambos indices, vamos a tomar toda la lista. Veamos:"
   ]
  },
  {
   "cell_type": "code",
   "execution_count": 27,
   "metadata": {},
   "outputs": [
    {
     "data": {
      "text/plain": [
       "['Mercurio', 'Venus', 'Tierra']"
      ]
     },
     "execution_count": 27,
     "metadata": {},
     "output_type": "execute_result"
    }
   ],
   "source": [
    "planetas[:3]"
   ]
  },
  {
   "cell_type": "code",
   "execution_count": 28,
   "metadata": {},
   "outputs": [
    {
     "data": {
      "text/plain": [
       "['Elon Land', 'Jupiter', 'Saturno', 'Urano', 'Neptuno']"
      ]
     },
     "execution_count": 28,
     "metadata": {},
     "output_type": "execute_result"
    }
   ],
   "source": [
    "planetas[3:]"
   ]
  },
  {
   "cell_type": "code",
   "execution_count": 29,
   "metadata": {},
   "outputs": [
    {
     "data": {
      "text/plain": [
       "['Mercurio',\n",
       " 'Venus',\n",
       " 'Tierra',\n",
       " 'Elon Land',\n",
       " 'Jupiter',\n",
       " 'Saturno',\n",
       " 'Urano',\n",
       " 'Neptuno']"
      ]
     },
     "execution_count": 29,
     "metadata": {},
     "output_type": "execute_result"
    }
   ],
   "source": [
    "planetas[:]"
   ]
  },
  {
   "cell_type": "markdown",
   "metadata": {},
   "source": [
    "Si observaste bien, pudiste notar que Python no toma el último valor que le indicamos como indice final sino el inmediatamente anterior. Muy importante tener en cuenta esto para evitar posibles bugs en nuestros programas."
   ]
  }
 ],
 "metadata": {
  "kernelspec": {
   "display_name": "Python 3",
   "language": "python",
   "name": "python3"
  },
  "language_info": {
   "codemirror_mode": {
    "name": "ipython",
    "version": 3
   },
   "file_extension": ".py",
   "mimetype": "text/x-python",
   "name": "python",
   "nbconvert_exporter": "python",
   "pygments_lexer": "ipython3",
   "version": "3.7.7"
  }
 },
 "nbformat": 4,
 "nbformat_minor": 4
}
