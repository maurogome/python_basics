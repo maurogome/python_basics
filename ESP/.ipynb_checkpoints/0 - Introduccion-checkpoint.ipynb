{
 "cells": [
  {
   "cell_type": "markdown",
   "metadata": {},
   "source": [
    "# Introducción\n",
    "\n",
    "Tradicionalmente el primer programa que hacemos en cualquier lenguaje es Hello World!, así que vamos:"
   ]
  },
  {
   "cell_type": "code",
   "execution_count": 1,
   "metadata": {},
   "outputs": [
    {
     "name": "stdout",
     "output_type": "stream",
     "text": [
      "Hello World!\n"
     ]
    }
   ],
   "source": [
    "print(\"Hello World!\")"
   ]
  },
  {
   "cell_type": "markdown",
   "metadata": {},
   "source": [
    "Este programa imprime en pantalla las palabras Hello World!. Según esto, podemos deducir que print es la palabra clave para iprimir texto en pantalla. Los parentesis nos indican que print es una función y las comillas le indican al programa que su contenido es un objeto de texto, o tipo string. Para indicar esto también podemos usar comillas sencillas, o triple comilla doble si queremos ingresar un texto de varias lineas y que Python nos respete el salto de linea."
   ]
  },
  {
   "cell_type": "code",
   "execution_count": 2,
   "metadata": {},
   "outputs": [
    {
     "name": "stdout",
     "output_type": "stream",
     "text": [
      "\n",
      "\t\t\tEsta es la primera linea\n",
      "\t\t\tEsta linea va en la mitad\n",
      "\t\t\tEsta es la ultima linea\n",
      "\t\t\t\t\t\n"
     ]
    }
   ],
   "source": [
    "print(\"\"\"\n",
    "\t\t\tEsta es la primera linea\n",
    "\t\t\tEsta linea va en la mitad\n",
    "\t\t\tEsta es la ultima linea\n",
    "\t\t\t\t\t\"\"\")"
   ]
  },
  {
   "cell_type": "markdown",
   "metadata": {},
   "source": [
    "En este momento no necesitamos saber que es una funcion, un objeto o una palabra clave, eso lo iremos aprendiedo en el transcurso del tiempo.\n",
    "\n",
    "Lo que si debemos tener claro desde ya es que nuestro código siempre tiene que ser lo mas limpio y claro posible para que sea legible para cualquier persona. De ser necesario podemos comentar el código usando el caracter hash (#) así:"
   ]
  },
  {
   "cell_type": "code",
   "execution_count": 3,
   "metadata": {},
   "outputs": [],
   "source": [
    "# Esto es un comentario"
   ]
  },
  {
   "cell_type": "markdown",
   "metadata": {},
   "source": [
    "En caso de necesitar un comentario de varias lineas podemos encerrar nuestro comentario entre triple comillas dobles (\"\"\" comentario \"\"\"), hay que tener en cuenta que esta herramienta la podemos usar en nuestros scripts con extensión .py, si lo hacemos en Jupyter Notebook, este lo va a interpretar como una cadena de texto. Por eso dejare el ejemplo en Markdown:\n",
    "\n",
    "\"\"\"\n",
    "\n",
    "Este tambien es un comentario,\n",
    "\n",
    "pero es mas largo,\n",
    "\n",
    "y ocupa varias lineas,\n",
    "\n",
    "guiño guiño\n",
    "\n",
    "\"\"\""
   ]
  }
 ],
 "metadata": {
  "kernelspec": {
   "display_name": "Python 3",
   "language": "python",
   "name": "python3"
  },
  "language_info": {
   "codemirror_mode": {
    "name": "ipython",
    "version": 3
   },
   "file_extension": ".py",
   "mimetype": "text/x-python",
   "name": "python",
   "nbconvert_exporter": "python",
   "pygments_lexer": "ipython3",
   "version": "3.7.7"
  }
 },
 "nbformat": 4,
 "nbformat_minor": 4
}
